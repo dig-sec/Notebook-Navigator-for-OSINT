{
 "cells": [
  {
   "cell_type": "markdown",
   "metadata": {},
   "source": [
    "# Target Pack Generator \n",
    "* Uses Mitre Attack to generate a threat hunt based on known techniques. \n",
    "    - https://raw.githubusercontent.com/mitre/cti/master/enterprise-attack/enterprise-attack.json\n",
    "* Search for matching Sigma Rules \n",
    "    - https://github.com/SigmaHQ/sigma"
   ]
  },
  {
   "cell_type": "markdown",
   "metadata": {},
   "source": [
    "### Fetch required data"
   ]
  },
  {
   "cell_type": "code",
   "execution_count": null,
   "metadata": {},
   "outputs": [],
   "source": [
    "import os\n",
    "import requests\n",
    "\n",
    "file_path = \"mitre/enterprise-attack.json\"\n",
    "url = \"https://raw.githubusercontent.com/mitre/cti/master/enterprise-attack/enterprise-attack.json\"\n",
    "\n",
    "if not os.path.exists(file_path):\n",
    "    response = requests.get(url)\n",
    "    with open(file_path, \"wb\") as file:\n",
    "        file.write(response.content)\n",
    "        print(\"File downloaded successfully.\")\n",
    "else:\n",
    "    print(\"File already exists.\")"
   ]
  },
  {
   "cell_type": "markdown",
   "metadata": {},
   "source": [
    "### Load group ATT&CK groups from enterprise-attack"
   ]
  },
  {
   "cell_type": "code",
   "execution_count": null,
   "metadata": {},
   "outputs": [],
   "source": [
    "from mitreattack.stix20 import MitreAttackData\n",
    "\n",
    "mitre_attack_data = MitreAttackData(\"mitre/enterprise-attack.json\")\n",
    "groups = mitre_attack_data.get_groups(remove_revoked_deprecated=True)\n",
    "print(f\"Retrieved {len(groups)} ATT&CK groups.\")"
   ]
  },
  {
   "cell_type": "markdown",
   "metadata": {},
   "source": [
    "### Select group to target"
   ]
  },
  {
   "cell_type": "code",
   "execution_count": null,
   "metadata": {},
   "outputs": [],
   "source": [
    "import ipywidgets as widgets\n",
    "\n",
    "group_names = [group.name for group in groups]\n",
    "selected_group = widgets.Select(options=group_names, description='Select Group:')\n",
    "display(selected_group)"
   ]
  },
  {
   "cell_type": "code",
   "execution_count": null,
   "metadata": {},
   "outputs": [],
   "source": [
    "group = next((group for group in groups if group.name == selected_group.value), None)\n",
    "print(group.description + \"\\n\")\n",
    "techniques_used_by_group = mitre_attack_data.get_techniques_used_by_group(group.id)\n",
    "print(f\"Number of techniques used by {group.name} : {len(techniques_used_by_group)}\")\n",
    "\n",
    "mitre_techniques_used_by_group = []\n",
    "\n",
    "for t in techniques_used_by_group:\n",
    "    if t[\"object\"]:\n",
    "        technique = t[\"object\"]\n",
    "        print(f\"* {technique.name} ({mitre_attack_data.get_attack_id(technique.id)})\")\n",
    "        mitre_techniques_used_by_group.append(mitre_attack_data.get_attack_id(technique.id))\n",
    "    else:\n",
    "        print(str(t))\n"
   ]
  },
  {
   "cell_type": "code",
   "execution_count": null,
   "metadata": {},
   "outputs": [],
   "source": [
    "import os\n",
    "import shutil\n",
    "from git import Repo\n",
    "import yaml\n",
    "import pandas as pd\n",
    "\n",
    "# URL of the Sigma repository\n",
    "SIGMA_REPO_URL = 'https://github.com/SigmaHQ/sigma.git'\n",
    "# Local folder to clone the repository into\n",
    "LOCAL_FOLDER = 'sigma-rules'\n",
    "\n",
    "# Clone the repository if the local folder does not exist\n",
    "if not os.path.exists(LOCAL_FOLDER):\n",
    "    Repo.clone_from(SIGMA_REPO_URL, LOCAL_FOLDER)\n",
    "\n",
    "# Matched Sigma rules\n",
    "sigma_rules = []\n",
    "\n",
    "def search_sigma_rules(techniques, local_folder):\n",
    "    \"\"\"\n",
    "    Search for Sigma rules in the specified local folder that match the given techniques.\n",
    "\n",
    "    Parameters:\n",
    "    techniques (list): A list of techniques to search for in the Sigma rules.\n",
    "    local_folder (str): The local directory to search within.\n",
    "\n",
    "    Returns:\n",
    "    pd.DataFrame: A DataFrame containing the matched Sigma rules.\n",
    "    \"\"\"\n",
    "    total_sigma_rules = 0\n",
    "\n",
    "    # Iterate over each technique\n",
    "    for technique in techniques:\n",
    "        # Walk through the directory tree\n",
    "        for root, dirs, files in os.walk(local_folder):\n",
    "            for filename in files:\n",
    "                if filename.endswith(\".yml\"):\n",
    "                    filepath = os.path.join(root, filename)\n",
    "                    try:\n",
    "                        with open(filepath, \"r\") as file:\n",
    "                            file_content = file.read()\n",
    "                            file.seek(0)\n",
    "                            try:\n",
    "                                # Use safe_load_all to load multiple documents\n",
    "                                for data in yaml.safe_load_all(file_content):\n",
    "                                    # Check if the technique is in tags or file content\n",
    "                                    if any(technique in str(tag) for tag in data.get(\"tags\", [])) or technique in file_content:\n",
    "                                        # Append the data to the sigma_rules list as a DataFrame\n",
    "                                        sigma_rules.append(pd.DataFrame([data]))\n",
    "                                        total_sigma_rules += 1\n",
    "                            except yaml.YAMLError as e:\n",
    "                                print(f\"Error parsing YAML in {filepath}: {e}\")\n",
    "                    except FileNotFoundError:\n",
    "                        print(f\"File not found: {filepath}\")\n",
    "                    except Exception as e:\n",
    "                        print(f\"An error occurred while processing {filepath}: {e}\")\n",
    "\n",
    "    print(f\"Total Sigma rules matched: {total_sigma_rules}\")\n",
    "    return pd.concat(sigma_rules, ignore_index=True) if sigma_rules else pd.DataFrame()\n",
    "\n",
    "\n",
    "sigma_detection_rules = search_sigma_rules(mitre_techniques_used_by_group, LOCAL_FOLDER)"
   ]
  },
  {
   "cell_type": "code",
   "execution_count": null,
   "metadata": {},
   "outputs": [],
   "source": [
    "# Create visualizations for sigma_detection_rules DataFrame\n",
    "import matplotlib.pyplot as plt\n",
    "import seaborn as sns\n",
    "\n",
    "# Count the number of rules per status\n",
    "status_counts = sigma_detection_rules['status'].value_counts()\n",
    "\n",
    "sigma_detection_rules['logsource_category'] = sigma_detection_rules['logsource'].apply(lambda x: x.get('category') if isinstance(x, dict) else None)\n",
    "sigma_detection_rules['logsource_product'] = sigma_detection_rules['logsource'].apply(lambda x: x.get('product') if isinstance(x, dict) else None)\n",
    "\n",
    "\n",
    "# Plot 1: Bar plot for Sigma Detection Rule Status Counts\n",
    "plt.figure(figsize=(12, 6))\n",
    "status_counts = sigma_detection_rules['status'].value_counts()\n",
    "sns.barplot(x=status_counts.index, y=status_counts.values, palette='viridis')\n",
    "plt.title('Sigma Detection Rule Status Counts')\n",
    "plt.xlabel('Status')\n",
    "plt.ylabel('Count')\n",
    "plt.xticks(rotation=45)\n",
    "plt.show()\n",
    "\n",
    "# Plot 2: Bar plot for Distribution of Rules by Tags\n",
    "plt.figure(figsize=(12, 6))\n",
    "tags_counts = sigma_detection_rules['tags'].explode().value_counts()\n",
    "sns.barplot(x=tags_counts.index, y=tags_counts.values, palette='viridis')\n",
    "plt.title('Distribution of Rules by Tags')\n",
    "plt.xlabel('Tags')\n",
    "plt.ylabel('Count')\n",
    "plt.xticks(rotation=45)\n",
    "plt.show()\n",
    "\n",
    "# Plot 3: Count plot for Rules by Category\n",
    "if 'logsource_category' in sigma_detection_rules.columns:\n",
    "    plt.figure(figsize=(12, 6))\n",
    "    sns.countplot(data=sigma_detection_rules, x='logsource_category', palette='viridis')\n",
    "    plt.title('Rules Count by Logsource Category')\n",
    "    plt.xlabel('Logsource Category')\n",
    "    plt.ylabel('Count')\n",
    "    plt.xticks(rotation=45)\n",
    "    plt.show()\n",
    "else:\n",
    "    print(\"Column 'logsource_category' not found in the DataFrame.\")\n",
    "\n",
    "# Plot 4: Count plot for Rules by Product\n",
    "if 'logsource_product' in sigma_detection_rules.columns:\n",
    "    plt.figure(figsize=(12, 6))\n",
    "    sns.countplot(data=sigma_detection_rules, x='logsource_product', palette='viridis')\n",
    "    plt.title('Rules Count by Logsource Product')\n",
    "    plt.xlabel('Logsource Product')\n",
    "    plt.ylabel('Count')\n",
    "    plt.xticks(rotation=45)\n",
    "    plt.show()\n",
    "else:\n",
    "    print(\"Column 'logsource_product' not found in the DataFrame.\")\n",
    "\n",
    "# Plot 5: PIE chart the column 'level' in sigma_detection_rules\n",
    "plt.figure(figsize=(12, 6))\n",
    "level_counts = sigma_detection_rules['level'].value_counts()\n",
    "plt.pie(level_counts, labels=level_counts.index, autopct='%1.1f%%', startangle=140, colors=sns.color_palette('viridis', len(level_counts)))\n",
    "plt.axis('equal')\n",
    "plt.title('Distribution of Rules by Level')\n",
    "plt.show()\n"
   ]
  },
  {
   "cell_type": "code",
   "execution_count": null,
   "metadata": {},
   "outputs": [],
   "source": [
    "# Table of Sigma detection rules names\n",
    "sigma_detection_rules[['title']]"
   ]
  }
 ],
 "metadata": {
  "kernelspec": {
   "display_name": "venv",
   "language": "python",
   "name": "python3"
  },
  "language_info": {
   "codemirror_mode": {
    "name": "ipython",
    "version": 3
   },
   "file_extension": ".py",
   "mimetype": "text/x-python",
   "name": "python",
   "nbconvert_exporter": "python",
   "pygments_lexer": "ipython3",
   "version": "3.10.12"
  }
 },
 "nbformat": 4,
 "nbformat_minor": 2
}
